{
  "nbformat": 4,
  "nbformat_minor": 0,
  "metadata": {
    "colab": {
      "provenance": [],
      "toc_visible": true,
      "authorship_tag": "ABX9TyNZiKKtnnXyGvS+tmUlUDR0"
    },
    "kernelspec": {
      "name": "python3",
      "display_name": "Python 3"
    },
    "language_info": {
      "name": "python"
    }
  },
  "cells": [
    {
      "cell_type": "markdown",
      "source": [
        "# New Section"
      ],
      "metadata": {
        "id": "hU84sE93hDok"
      }
    },
    {
      "cell_type": "code",
      "source": [
        "# Simple Calculator\n",
        "\n",
        "def calculator():\n",
        "    # Get input from the user and assume the first number is x and second number y\n",
        "    x = int(input(\"Enter the first number: \"))\n",
        "    operator = input(\"Enter the operator (+, -, *, /): \")\n",
        "    y = int(input(\"Enter the second number: \"))\n",
        "\n",
        "    # Perform the calculation based on the operator\n",
        "    if operator == '+':\n",
        "        result = x + y\n",
        "    elif operator == '-':\n",
        "        result = x - y\n",
        "    elif operator == '*':\n",
        "        result = x * y\n",
        "    elif operator == '/':\n",
        "        if y != 0:\n",
        "            result = x / y\n",
        "        else:\n",
        "            print(\"Error: Division by zero is not allowed.\")\n",
        "            return\n",
        "    else:\n",
        "        print(\"Error: Invalid operator.\")\n",
        "        return\n",
        "\n",
        "    # Display the result in the desired format\n",
        "    print(f\"{x} {operator} {y} = {result}\")\n",
        "\n",
        "# Run the calculator\n",
        "calculator()"
      ],
      "metadata": {
        "colab": {
          "base_uri": "https://localhost:8080/"
        },
        "id": "IQpEeENgp5F8",
        "outputId": "02f5f723-aad0-4684-a47d-e2618ffbabc1"
      },
      "execution_count": null,
      "outputs": [
        {
          "output_type": "stream",
          "name": "stdout",
          "text": [
            "Enter the first number: 7\n",
            "Enter the operator (+, -, *, /): +\n",
            "Enter the second number: 89\n",
            "7 + 89 = 96\n"
          ]
        }
      ]
    }
  ]
}